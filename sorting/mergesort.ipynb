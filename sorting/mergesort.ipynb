{
 "cells": [
  {
   "cell_type": "markdown",
   "metadata": {},
   "source": [
    "# Mergesort\n",
    "https://www.youtube.com/watch?v=3aTfQvs-_hA&t=17s\n",
    "\n",
    "Conceptually, a merge sort works as follows:\n",
    "1. Divide the unsorted list into n sublists, each containing one element (a list of one element is considered sorted).\n",
    "2. Repeatedly merge sublists to produce new sorted sublists until there is only one sublist remaining. This will be the sorted list."
   ]
  },
  {
   "cell_type": "code",
   "execution_count": 1,
   "metadata": {},
   "outputs": [],
   "source": [
    "%run ../create_array.py"
   ]
  },
  {
   "cell_type": "code",
   "execution_count": 2,
   "metadata": {},
   "outputs": [],
   "source": [
    "# a and b must be sorted arrays\n",
    "def _merge(a, b):\n",
    "    merged = []\n",
    "    a_idx, b_idx = 0, 0\n",
    "    \n",
    "    while a_idx < len(a) and b_idx < len(b):\n",
    "        if a[a_idx] < b[b_idx]:\n",
    "            merged.append(a[a_idx])\n",
    "            a_idx += 1\n",
    "        else:\n",
    "            merged.append(b[b_idx])\n",
    "            b_idx += 1\n",
    "    # We extend the merged array with the last element of the list we didn't exhaust in the while loop\n",
    "    if a_idx == len(a):\n",
    "        merged.extend(b[b_idx:])\n",
    "    else:\n",
    "        merged.extend(a[a_idx:])\n",
    "    return merged\n",
    "        "
   ]
  },
  {
   "cell_type": "code",
   "execution_count": 3,
   "metadata": {},
   "outputs": [
    {
     "data": {
      "text/plain": [
       "[2, 3, 3, 4, 4, 4, 5, 5, 7, 9, 12, 13, 15, 16, 17, 20, 22, 23, 25, 25]"
      ]
     },
     "execution_count": 3,
     "metadata": {},
     "output_type": "execute_result"
    }
   ],
   "source": [
    "_merge(sorted(create_array(25, 10)), sorted(create_array(25, 10)))\n"
   ]
  },
  {
   "cell_type": "code",
   "execution_count": 4,
   "metadata": {},
   "outputs": [],
   "source": [
    "def mergesort(a):\n",
    "    if len(a) <= 1:\n",
    "        return a\n",
    "    \n",
    "    left, right = mergesort(a[:len(a)//2]), mergesort(a[len(a)//2:])\n",
    "    return _merge(left, right)"
   ]
  },
  {
   "cell_type": "code",
   "execution_count": 5,
   "metadata": {},
   "outputs": [
    {
     "data": {
      "text/plain": [
       "[4, 5, 11, 13, 14, 18, 18, 19, 24, 25]"
      ]
     },
     "execution_count": 5,
     "metadata": {},
     "output_type": "execute_result"
    }
   ],
   "source": [
    "mergesort(create_array(25, 10))\n"
   ]
  }
 ],
 "metadata": {
  "kernelspec": {
   "display_name": "Python 3",
   "language": "python",
   "name": "python3"
  },
  "language_info": {
   "codemirror_mode": {
    "name": "ipython",
    "version": 3
   },
   "file_extension": ".py",
   "mimetype": "text/x-python",
   "name": "python",
   "nbconvert_exporter": "python",
   "pygments_lexer": "ipython3",
   "version": "3.6.5"
  }
 },
 "nbformat": 4,
 "nbformat_minor": 2
}
