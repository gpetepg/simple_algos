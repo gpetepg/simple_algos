{
 "cells": [
  {
   "cell_type": "markdown",
   "metadata": {},
   "source": [
    "# Selectionsort\n",
    "\n",
    "The algorithm divides the input list into two parts: the sublist of items already sorted, which is built up from left to right at the front (left) of the list, and the sublist of items remaining to be sorted that occupy the rest of the list. Initially, the sorted sublist is empty and the unsorted sublist is the entire input list.\n",
    "\n",
    "https://www.geeksforgeeks.org/selection-sort/"
   ]
  },
  {
   "cell_type": "code",
   "execution_count": 1,
   "metadata": {},
   "outputs": [],
   "source": [
    "%run ../create_array.py"
   ]
  },
  {
   "cell_type": "code",
   "execution_count": 2,
   "metadata": {},
   "outputs": [],
   "source": [
    "# Traverse through all array elements \n",
    "def selection_sort(arr):\n",
    "    for i in range(len(arr)): \n",
    "\n",
    "        # Find the minimum element in remaining  \n",
    "        # unsorted array \n",
    "        min_idx = i \n",
    "        \n",
    "        for j in range(i+1, len(arr)): \n",
    "            if arr[min_idx] > arr[j]: \n",
    "                min_idx = j \n",
    "\n",
    "        # Swap the found minimum element with  \n",
    "        # the first element         \n",
    "        arr[i], arr[min_idx] = arr[min_idx], arr[i] \n",
    "\n",
    "    return arr"
   ]
  },
  {
   "cell_type": "code",
   "execution_count": 3,
   "metadata": {},
   "outputs": [
    {
     "data": {
      "text/plain": [
       "[0, 2, 3, 6, 9, 10, 17, 20, 21, 25]"
      ]
     },
     "execution_count": 3,
     "metadata": {},
     "output_type": "execute_result"
    }
   ],
   "source": [
    "selection_sort(create_array(25, 10))"
   ]
  }
 ],
 "metadata": {
  "kernelspec": {
   "display_name": "Python 3",
   "language": "python",
   "name": "python3"
  },
  "language_info": {
   "codemirror_mode": {
    "name": "ipython",
    "version": 3
   },
   "file_extension": ".py",
   "mimetype": "text/x-python",
   "name": "python",
   "nbconvert_exporter": "python",
   "pygments_lexer": "ipython3",
   "version": "3.6.5"
  }
 },
 "nbformat": 4,
 "nbformat_minor": 2
}
