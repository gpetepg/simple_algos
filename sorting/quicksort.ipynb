{
 "cells": [
  {
   "cell_type": "markdown",
   "metadata": {},
   "source": [
    "# Quicksort\n",
    "https://www.youtube.com/watch?v=RFyLsF9y83c\n",
    "\n",
    "The steps are:\n",
    "\n",
    "1. Pick an element, called a pivot, from the array.\n",
    "2. Partitioning: reorder the array so that all elements with values less than the pivot come before the pivot, while all elements with values greater than the pivot come after it (equal values can go either way). After this partitioning, the pivot is in its final position. This is called the partition operation.\n",
    "3. Recursively apply the above steps to the sub-array of elements with smaller values and separately to the sub-array of elements with greater values."
   ]
  },
  {
   "cell_type": "code",
   "execution_count": 1,
   "metadata": {},
   "outputs": [],
   "source": [
    "%run ../create_array.py"
   ]
  },
  {
   "cell_type": "code",
   "execution_count": 2,
   "metadata": {},
   "outputs": [],
   "source": [
    "# Quick sort recursive\n",
    "def quicksort_recursive(data):\n",
    "    if len(data) <= 1:                               # Our base case\n",
    "        return data\n",
    "    \n",
    "    pivot = data[random.randint(0, len(data) - 1)]   # Select random pivot\n",
    "    less, equal, greater = [], [], []                # Empty arrays to add into if they are less than greater than or =\n",
    "\n",
    "    for i in data:                                   # Our comparisions\n",
    "        if i == pivot:\n",
    "            equal.append(i)\n",
    "        elif i < pivot:\n",
    "            less.append(i)\n",
    "        else:\n",
    "            greater.append(i)\n",
    "    \n",
    "    return quicksort_recursive(less) + equal + quicksort_recursive(greater)  # Add them once sorted"
   ]
  },
  {
   "cell_type": "code",
   "execution_count": 3,
   "metadata": {},
   "outputs": [
    {
     "data": {
      "text/plain": [
       "[0, 5, 6, 6, 7, 7, 8, 10, 12, 21]"
      ]
     },
     "execution_count": 3,
     "metadata": {},
     "output_type": "execute_result"
    }
   ],
   "source": [
    "quicksort_recursive(create_array(25, 10))\n"
   ]
  }
 ],
 "metadata": {
  "kernelspec": {
   "display_name": "Python 3",
   "language": "python",
   "name": "python3"
  },
  "language_info": {
   "codemirror_mode": {
    "name": "ipython",
    "version": 3
   },
   "file_extension": ".py",
   "mimetype": "text/x-python",
   "name": "python",
   "nbconvert_exporter": "python",
   "pygments_lexer": "ipython3",
   "version": "3.6.5"
  }
 },
 "nbformat": 4,
 "nbformat_minor": 2
}
