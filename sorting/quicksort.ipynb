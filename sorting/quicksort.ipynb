{
 "cells": [
  {
   "cell_type": "markdown",
   "metadata": {},
   "source": [
    "# Quicksort\n",
    "https://www.youtube.com/watch?v=RFyLsF9y83c"
   ]
  },
  {
   "cell_type": "code",
   "execution_count": 2,
   "metadata": {},
   "outputs": [],
   "source": [
    "import random\n",
    "\n",
    "def create_array():\n",
    "    return [random.randint(1, 25) for x in range(0,10)]"
   ]
  },
  {
   "cell_type": "code",
   "execution_count": 3,
   "metadata": {},
   "outputs": [],
   "source": [
    "# Quick sort recursive\n",
    "def quicksort_recursive(data):\n",
    "    if len(data) <= 1:\n",
    "        return data\n",
    "    \n",
    "    pivot = data[random.randint(0, len(data) - 1)]\n",
    "    less, equal, greater = [], [], []\n",
    "\n",
    "    for i in data:\n",
    "        if i == pivot:\n",
    "            equal.append(i)\n",
    "        elif i < pivot:\n",
    "            less.append(i)\n",
    "        else:\n",
    "            greater.append(i)\n",
    "    \n",
    "    return quicksort_recursive(less) + equal + quicksort_recursive(greater)"
   ]
  },
  {
   "cell_type": "code",
   "execution_count": 4,
   "metadata": {},
   "outputs": [
    {
     "data": {
      "text/plain": [
       "[2, 6, 7, 11, 14, 14, 17, 17, 21, 24]"
      ]
     },
     "execution_count": 4,
     "metadata": {},
     "output_type": "execute_result"
    }
   ],
   "source": [
    "quicksort_recursive(create_array())"
   ]
  }
 ],
 "metadata": {
  "kernelspec": {
   "display_name": "Python 3",
   "language": "python",
   "name": "python3"
  },
  "language_info": {
   "codemirror_mode": {
    "name": "ipython",
    "version": 3
   },
   "file_extension": ".py",
   "mimetype": "text/x-python",
   "name": "python",
   "nbconvert_exporter": "python",
   "pygments_lexer": "ipython3",
   "version": "3.6.6"
  }
 },
 "nbformat": 4,
 "nbformat_minor": 2
}
