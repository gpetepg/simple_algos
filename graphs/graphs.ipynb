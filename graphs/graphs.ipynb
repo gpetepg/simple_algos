{
 "cells": [
  {
   "cell_type": "code",
   "execution_count": 423,
   "metadata": {},
   "outputs": [],
   "source": [
    "import collections\n",
    "\n",
    "MatchResult = collections.namedtuple(\"MatchResult\", (\"winning_team\", \"losing_team\"))\n",
    "\n",
    "def can_team_a_beat_team_b(matches, team_a, team_b):        \n",
    "    return is_reachable_dfs(build_graph(), team_a, team_b)\n",
    "\n",
    "def build_graph():\n",
    "    graph = collections.defaultdict(set)\n",
    "    for match in matches:\n",
    "        graph[match.winning_team].add(match.losing_team)\n",
    "    return graph\n",
    "\n",
    "def is_reachable_dfs(graph, curr, dest, visited=set()):\n",
    "    if curr == dest:\n",
    "        return True\n",
    "    elif curr in visited or curr not in graph: \n",
    "        return False\n",
    "    visited.add(curr)\n",
    "    return any(is_reachable_dfs(graph, team, dest) for team in graph[curr])"
   ]
  },
  {
   "cell_type": "code",
   "execution_count": 424,
   "metadata": {},
   "outputs": [
    {
     "data": {
      "text/plain": [
       "True"
      ]
     },
     "execution_count": 424,
     "metadata": {},
     "output_type": "execute_result"
    }
   ],
   "source": [
    "match1 = MatchResult(\"a\", \"b\")\n",
    "match2 = MatchResult(\"b\", \"e\")\n",
    "match3 = MatchResult(\"c\", \"d\")\n",
    "match4 = MatchResult(\"e\", \"b\")\n",
    "match5 = MatchResult(\"b\", \"a\")\n",
    "match6 = MatchResult(\"a\", \"c\")\n",
    "match7 = MatchResult(\"d\", \"b\")\n",
    "\n",
    "matches = [match1, match2, match3, match4, match5, match6, match7]\n",
    "\n",
    "can_team_a_beat_team_b(matches, \"a\", \"e\")"
   ]
  },
  {
   "cell_type": "code",
   "execution_count": 411,
   "metadata": {},
   "outputs": [
    {
     "data": {
      "text/plain": [
       "defaultdict(set,\n",
       "            {'a': {'b', 'c'},\n",
       "             'b': {'a', 'e'},\n",
       "             'c': {'d'},\n",
       "             'e': {'b'},\n",
       "             'd': {'b'}})"
      ]
     },
     "execution_count": 411,
     "metadata": {},
     "output_type": "execute_result"
    }
   ],
   "source": [
    "graph = collections.defaultdict(set)\n",
    "for match in matches:\n",
    "    graph[match.winning_team].add(match.losing_team)\n",
    "    \n",
    "graph"
   ]
  },
  {
   "cell_type": "code",
   "execution_count": 395,
   "metadata": {},
   "outputs": [
    {
     "data": {
      "text/plain": [
       "MatchResult(winning_team='a', losing_team='b')"
      ]
     },
     "execution_count": 395,
     "metadata": {},
     "output_type": "execute_result"
    }
   ],
   "source": [
    "match1"
   ]
  },
  {
   "cell_type": "code",
   "execution_count": null,
   "metadata": {},
   "outputs": [],
   "source": [
    "can_team_a_beat_team_b()"
   ]
  },
  {
   "cell_type": "code",
   "execution_count": 390,
   "metadata": {},
   "outputs": [
    {
     "data": {
      "text/plain": [
       "True"
      ]
     },
     "execution_count": 390,
     "metadata": {},
     "output_type": "execute_result"
    }
   ],
   "source": [
    "any([True, False, False])"
   ]
  },
  {
   "cell_type": "code",
   "execution_count": null,
   "metadata": {},
   "outputs": [],
   "source": []
  },
  {
   "cell_type": "code",
   "execution_count": 385,
   "metadata": {},
   "outputs": [],
   "source": [
    "paths = [[1,2],[2,3],[3,4],[4,1],[1,3],[2,4]]\n",
    "\n",
    "g = collections.defaultdict(list)\n",
    "for x, y in paths:\n",
    "    g[x].append(y)\n",
    "    g[y].append(x)"
   ]
  },
  {
   "cell_type": "code",
   "execution_count": 386,
   "metadata": {},
   "outputs": [
    {
     "name": "stdout",
     "output_type": "stream",
     "text": [
      "defaultdict(<class 'list'>,\n",
      "            {1: [2, 4, 3],\n",
      "             2: [1, 3, 4],\n",
      "             3: [2, 4, 1],\n",
      "             4: [3, 1, 2]})\n"
     ]
    }
   ],
   "source": [
    "import pprint as pp\n",
    "\n",
    "pp.pprint(g)"
   ]
  },
  {
   "cell_type": "code",
   "execution_count": null,
   "metadata": {},
   "outputs": [],
   "source": [
    "{\n",
    "    1: 2, 3\n",
    "    2: 3, 4\n",
    "    3: 4\n",
    "    4: 1\n",
    "}"
   ]
  },
  {
   "cell_type": "code",
   "execution_count": 372,
   "metadata": {},
   "outputs": [],
   "source": [
    "paths = [[1,2],[2,3],[3,4],[4,1],[1,3],[2,4]]\n",
    "\n",
    "d = {}\n",
    "for x, y in paths:\n",
    "    d[x] = y\n",
    "    d[y] = x"
   ]
  },
  {
   "cell_type": "code",
   "execution_count": 374,
   "metadata": {},
   "outputs": [
    {
     "data": {
      "text/plain": [
       "{1: 3, 2: 4, 3: 1, 4: 2}"
      ]
     },
     "execution_count": 374,
     "metadata": {},
     "output_type": "execute_result"
    }
   ],
   "source": [
    "d"
   ]
  },
  {
   "cell_type": "code",
   "execution_count": 375,
   "metadata": {},
   "outputs": [
    {
     "data": {
      "text/plain": [
       "3"
      ]
     },
     "execution_count": 375,
     "metadata": {},
     "output_type": "execute_result"
    }
   ],
   "source": [
    "d[1]"
   ]
  },
  {
   "cell_type": "code",
   "execution_count": 376,
   "metadata": {},
   "outputs": [
    {
     "data": {
      "text/plain": [
       "4"
      ]
     },
     "execution_count": 376,
     "metadata": {},
     "output_type": "execute_result"
    }
   ],
   "source": [
    "d[2]"
   ]
  },
  {
   "cell_type": "code",
   "execution_count": null,
   "metadata": {},
   "outputs": [],
   "source": [
    "d[1] = [2,4,3]\n",
    "d[2] = [1,3,4]\n",
    "..."
   ]
  },
  {
   "cell_type": "code",
   "execution_count": 338,
   "metadata": {},
   "outputs": [],
   "source": [
    "import collections\n",
    "ddlist = collections.defaultdict(list)\n",
    "\n",
    "ddlist[2].append(5)"
   ]
  },
  {
   "cell_type": "code",
   "execution_count": 336,
   "metadata": {},
   "outputs": [
    {
     "data": {
      "text/plain": [
       "defaultdict(list, {2: [5]})"
      ]
     },
     "execution_count": 336,
     "metadata": {},
     "output_type": "execute_result"
    }
   ],
   "source": [
    "ddlist"
   ]
  },
  {
   "cell_type": "code",
   "execution_count": 333,
   "metadata": {},
   "outputs": [],
   "source": [
    "import collections\n",
    "ddset = collections.defaultdict(set)\n",
    "\n",
    "ddset[1].add((1,2))\n",
    "ddset[2].add((\"a\",\"b\"))\n",
    "ddset[2].add((\"c\",\"d\"))"
   ]
  }
 ],
 "metadata": {
  "kernelspec": {
   "display_name": "Python 3",
   "language": "python",
   "name": "python3"
  },
  "language_info": {
   "codemirror_mode": {
    "name": "ipython",
    "version": 3
   },
   "file_extension": ".py",
   "mimetype": "text/x-python",
   "name": "python",
   "nbconvert_exporter": "python",
   "pygments_lexer": "ipython3",
   "version": "3.6.6"
  }
 },
 "nbformat": 4,
 "nbformat_minor": 2
}
