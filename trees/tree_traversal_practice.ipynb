{
 "cells": [
  {
   "cell_type": "code",
   "execution_count": null,
   "metadata": {},
   "outputs": [],
   "source": [
    "#         1\n",
    "#     2        3\n",
    "#   4   5    6   7\n",
    "# 8   "
   ]
  },
  {
   "cell_type": "code",
   "execution_count": 9,
   "metadata": {
    "scrolled": true
   },
   "outputs": [],
   "source": [
    "#visit left right\n",
    "# 1 2 4 5 3 6 7\n",
    "def pre_order(tree, arr):\n",
    "    if tree is not None:\n",
    "        arr.append(tree.value)\n",
    "        pre_order(tree.left, arr)\n",
    "        pre_order(tree.right, arr)\n",
    "    return arr"
   ]
  },
  {
   "cell_type": "code",
   "execution_count": 6,
   "metadata": {},
   "outputs": [],
   "source": [
    "#left right visit\n",
    "# 8 4 5 2 6 7 3 1\n",
    "def post_order(tree, arr):\n",
    "    if tree is not None:\n",
    "        post_order(tree.left, arr)\n",
    "        post_order(tree.right, arr)\n",
    "        arr.append(tree.value)\n",
    "    return arr"
   ]
  },
  {
   "cell_type": "code",
   "execution_count": 8,
   "metadata": {},
   "outputs": [],
   "source": [
    "# left visit right\n",
    "# 8 4 2 5 1 6 3 7\n",
    "def in_order(tree, arr):\n",
    "    if tree is not None:\n",
    "        in_order(tree.left, arr)\n",
    "        arr.append(tree.value)\n",
    "        in_order(tree.right, arr)\n",
    "    return arr"
   ]
  },
  {
   "cell_type": "code",
   "execution_count": null,
   "metadata": {},
   "outputs": [],
   "source": []
  }
 ],
 "metadata": {
  "kernelspec": {
   "display_name": "Python 3",
   "language": "python",
   "name": "python3"
  },
  "language_info": {
   "codemirror_mode": {
    "name": "ipython",
    "version": 3
   },
   "file_extension": ".py",
   "mimetype": "text/x-python",
   "name": "python",
   "nbconvert_exporter": "python",
   "pygments_lexer": "ipython3",
   "version": "3.6.5"
  }
 },
 "nbformat": 4,
 "nbformat_minor": 2
}
