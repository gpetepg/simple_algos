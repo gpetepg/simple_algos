{
 "cells": [
  {
   "cell_type": "markdown",
   "metadata": {},
   "source": [
    "# Binary Seach Tree Traversal\n",
    "\n",
    "Binary Search Tree is a node-based binary tree data structure which has the following properties:\n",
    "\n",
    "1. The left subtree of a node contains only nodes with keys lesser than the node’s key.\n",
    "2. The right subtree of a node contains only nodes with keys greater than the node’s key.\n",
    "3. The left and right subtree each must also be a binary search tree."
   ]
  },
  {
   "cell_type": "code",
   "execution_count": null,
   "metadata": {},
   "outputs": [],
   "source": [
    "# In-Order: left, value, right\n",
    "def in_order_traverse(tree, array):\n",
    "    if tree is not None:\n",
    "        in_order_traverse(tree.left, array)\n",
    "        array.append(tree.value)\n",
    "        in_order_traverse(tree.right, array)\n",
    "    return array\n",
    "\n",
    "# Pre-Order: value, left, right\n",
    "def pre_order_traverse(tree, array):\n",
    "    if tree is not None:\n",
    "        array.append(tree.value)\n",
    "        pre_order_traversee(tree.left, array)\n",
    "        pre_order_traverse(tree.right, array)\n",
    "    return array\n",
    "\n",
    "# Post-Order: left, right value\n",
    "def post_order_traverse(tree, array):\n",
    "    if tree is not None:\n",
    "        post_order_traverse(tree.left, array)\n",
    "        post_order_traverse(tree.right, array)\n",
    "        array.append(tree.value)\n",
    "    return array"
   ]
  },
  {
   "cell_type": "markdown",
   "metadata": {},
   "source": [
    "### Depth First Seach ( DFS ) ###"
   ]
  },
  {
   "cell_type": "code",
   "execution_count": null,
   "metadata": {},
   "outputs": [],
   "source": [
    "# Depth-First uses a stack and can be recursive; LIFO (Last in first out)\n",
    "\n",
    "def dfs(root):\n",
    "    if root.left:\n",
    "        dfs(root.left)\n",
    "    if root.right:\n",
    "        dfs(root.right)\n",
    "        \n",
    "# OR\n",
    "\n",
    "# O(v + e) time | O(v) space\n",
    "class Node:\n",
    "    def __init__(self, name):\n",
    "        self.childen = []\n",
    "        self.name = name\n",
    "        \n",
    "    def add_child(self, name):\n",
    "        self.children.append(Node(name))\n",
    "        return self\n",
    "\n",
    "    def dfs(self, array):\n",
    "        array.append(self.name)\n",
    "        for child in self.children\n",
    "            child.dfs(array)\n",
    "        return array"
   ]
  },
  {
   "cell_type": "markdown",
   "metadata": {},
   "source": [
    "### Breadth First Seach ( BFS ) ###"
   ]
  },
  {
   "cell_type": "code",
   "execution_count": null,
   "metadata": {},
   "outputs": [],
   "source": [
    "# Breadth-first uses a queue and should be iterative; FIFO (First in first out)\n",
    "\n",
    "def bfs(array):\n",
    "    queue = []\n",
    "    while len(queue) > 0:\n",
    "        node = queue.pop(0)\n",
    "        if node.left:\n",
    "            queue.append(node.left)\n",
    "        if node.right:\n",
    "            queue.append(node.right)\n",
    "            \n",
    "# OR\n",
    "\n",
    "# O(v + e) time | O(v) space\n",
    "class Node:\n",
    "    def __init__(self, name):\n",
    "        self.childen = []\n",
    "        self.name = name\n",
    "        \n",
    "    def add_child(self, name):\n",
    "        self.children.append(Node(name))\n",
    "        return self\n",
    "    \n",
    "    def bfs(self, array):\n",
    "        queue = [self]\n",
    "        while len(queue) > 0:\n",
    "            node = queue.pop(0)\n",
    "            array.append(current.name)\n",
    "            for child in current.children:\n",
    "                queue.append(child)\n",
    "        return array"
   ]
  }
 ],
 "metadata": {
  "kernelspec": {
   "display_name": "Python 3",
   "language": "python",
   "name": "python3"
  },
  "language_info": {
   "codemirror_mode": {
    "name": "ipython",
    "version": 3
   },
   "file_extension": ".py",
   "mimetype": "text/x-python",
   "name": "python",
   "nbconvert_exporter": "python",
   "pygments_lexer": "ipython3",
   "version": "3.6.5"
  }
 },
 "nbformat": 4,
 "nbformat_minor": 2
}
